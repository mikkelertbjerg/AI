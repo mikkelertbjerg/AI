{
 "cells": [
  {
   "cell_type": "markdown",
   "metadata": {},
   "source": [
    "# E2-5 Tic Tac Toe Wiser - Invincible"
   ]
  },
  {
   "cell_type": "markdown",
   "metadata": {},
   "source": [
    "This is a game, in which AI starts playing from fixed winning position.\n",
    "The second move is based on a rule: \n",
    "- if possible, occupy the corners\n",
    "- otherwise, the middle"
   ]
  },
  {
   "cell_type": "markdown",
   "metadata": {},
   "source": [
    "## Initialization"
   ]
  },
  {
   "cell_type": "code",
   "execution_count": 1,
   "metadata": {},
   "outputs": [],
   "source": [
    "# Initialize the players and signs\n",
    "EMPTY = '.'\n",
    "AI = 'X'\n",
    "HUMAN = 'O'"
   ]
  },
  {
   "cell_type": "code",
   "execution_count": 2,
   "metadata": {},
   "outputs": [],
   "source": [
    "# print the board, leave an empty lines and spaces for visibility\n",
    "def print_board(board):\n",
    "    print(\" \")\n",
    "    print(' '.join(board[:3]))\n",
    "    print(' '.join(board[3:6]))\n",
    "    print(' '.join(board[6:]))\n",
    "    print(\" \")"
   ]
  },
  {
   "cell_type": "code",
   "execution_count": 3,
   "metadata": {},
   "outputs": [
    {
     "name": "stdout",
     "output_type": "stream",
     "text": [
      " \n",
      ". . .\n",
      ". . .\n",
      ". . .\n",
      " \n"
     ]
    }
   ],
   "source": [
    "# Initialize the board\n",
    "board = EMPTY * 9\n",
    "print_board(board)"
   ]
  },
  {
   "cell_type": "code",
   "execution_count": 4,
   "metadata": {},
   "outputs": [],
   "source": [
    "# Define all possible winning combinations\n",
    "win_cases = [\n",
    "    [0, 1, 2],\n",
    "    [3, 4, 5],\n",
    "    [6, 7, 8],\n",
    "    [0, 3, 6],\n",
    "    [1, 4, 7],\n",
    "    [2, 5, 8],\n",
    "    [0, 4, 8],\n",
    "    [2, 4, 6]\n",
    "]"
   ]
  },
  {
   "cell_type": "markdown",
   "metadata": {},
   "source": [
    "##  Supporting Functions"
   ]
  },
  {
   "cell_type": "markdown",
   "metadata": {},
   "source": [
    "#### Function improved\n",
    "AI is interested in winning and save options, with fixed start at 9 and 7.\n",
    "First move is always in a corner; second move is in the opposite corner if possible, otherwise in the middle."
   ]
  },
  {
   "cell_type": "code",
   "execution_count": 5,
   "metadata": {},
   "outputs": [],
   "source": [
    "# Get all available save moves on the board in a list, fix the first two\n",
    "def all_possible_moves(board, sign):\n",
    "    if sign == AI:\n",
    "        empty = board.count(EMPTY)\n",
    "        if empty == 9:\n",
    "            return [sign + EMPTY * 8]\n",
    "        elif empty == 7:\n",
    "            return [\n",
    "                board[:8] + sign if board[8] == EMPTY else\n",
    "                board[:4] + sign + board[5:]\n",
    "            ]\n",
    "    move_list = []\n",
    "    for i, v in enumerate(board):\n",
    "        if v == EMPTY:\n",
    "            new_board = board[:i] + sign + board[i+1:]\n",
    "            move_list.append(new_board)\n",
    "            if game_won_by(new_board) == AI:\n",
    "                return [new_board]\n",
    "    if sign == AI:\n",
    "        safe_moves = []\n",
    "        for move in move_list:\n",
    "            if not can_win(move, HUMAN):\n",
    "                safe_moves.append(move)\n",
    "        return safe_moves if len(safe_moves) > 0 else move_list[0:1]\n",
    "    else:\n",
    "        return move_list"
   ]
  },
  {
   "cell_type": "code",
   "execution_count": 6,
   "metadata": {},
   "outputs": [],
   "source": [
    "# A winning game is if any of win-cases occurs\n",
    "def game_won_by(board):\n",
    "    for i in win_cases:\n",
    "        if board[i[0]] == board[i[1]] == board[i[2]] != EMPTY:\n",
    "            # win-case\n",
    "            return board[i[0]]\n",
    "    return EMPTY"
   ]
  },
  {
   "cell_type": "code",
   "execution_count": 7,
   "metadata": {},
   "outputs": [],
   "source": [
    "# Before make a move, iterate through the options and check if some wins\n",
    "def can_win(board, sign):\n",
    "    next_moves = all_possible_moves(board, sign)\n",
    "    for next_move in next_moves:\n",
    "        if game_won_by(next_move) == sign:\n",
    "            return True\n",
    "    return False"
   ]
  },
  {
   "cell_type": "markdown",
   "metadata": {},
   "source": [
    "## Play The Game"
   ]
  },
  {
   "cell_type": "markdown",
   "metadata": {},
   "source": [
    "### Game Moves"
   ]
  },
  {
   "cell_type": "markdown",
   "metadata": {},
   "source": [
    "#### Human move"
   ]
  },
  {
   "cell_type": "code",
   "execution_count": 8,
   "metadata": {},
   "outputs": [],
   "source": [
    "# Human move approach still the same\n",
    "def human_move(board, row, column):\n",
    "    # get the index of the cell the user selected: 2D -> 1D \n",
    "    index = 3 * (row - 1) + (column - 1)\n",
    "    #  if this cell is empty, make the user move, otherwise do nothing\n",
    "    if board[index] == EMPTY:\n",
    "        # place HUMAN sign on board[index]\n",
    "        return board[:index] + HUMAN + board[index+1:]\n",
    "    return board"
   ]
  },
  {
   "cell_type": "markdown",
   "metadata": {},
   "source": [
    "#### AI move: ai_move() is improved\n",
    "Save preffered moves"
   ]
  },
  {
   "cell_type": "code",
   "execution_count": 9,
   "metadata": {},
   "outputs": [],
   "source": [
    "# AI makes a move from all available SAFE moves\n",
    "from random import choice\n",
    "def ai_move(board):\n",
    "    new_boards = all_possible_moves(board, AI)\n",
    "    for new_board in new_boards:\n",
    "        if game_won_by(new_board) == AI:\n",
    "            return new_board\n",
    "    safe_moves = []\n",
    "    for new_board in new_boards:\n",
    "        if not can_win(new_board, HUMAN):\n",
    "            safe_moves.append(new_board)\n",
    "    if len(safe_moves) > 0: \n",
    "        return choice(safe_moves) \n",
    "    return new_boards[0]           "
   ]
  },
  {
   "cell_type": "code",
   "execution_count": 10,
   "metadata": {},
   "outputs": [],
   "source": [
    "# Play the game\n",
    "def game():\n",
    "    # start from empty board\n",
    "    board = EMPTY * 9\n",
    "    empty_cell_count = 9\n",
    "    end_flag = False\n",
    "    \n",
    "    while empty_cell_count > 0 and not end_flag:       \n",
    "        # Player AI (always odd number of options)\n",
    "        if empty_cell_count % 2 == 1:\n",
    "            board = ai_move(board)\n",
    "        else:\n",
    "            # Human player\n",
    "            row = int(input('Enter row: '))\n",
    "            col = int(input('Enter column: '))\n",
    "            board = human_move(board, row, col)\n",
    "            \n",
    "        # Print current board status    \n",
    "        print_board(board)\n",
    "        \n",
    "        # Check if someone wins already, update the flag\n",
    "        end_flag = game_won_by(board) != EMPTY\n",
    "        \n",
    "        # Count how many empty cells left\n",
    "        empty_cell_count = board.count(EMPTY)      \n",
    "        # empty_cell_count = sum(1 for cell in board if cell == EMPTY_SIGN)\n",
    "     \n",
    "    print('Game ended. Winner: ', game_won_by(board))"
   ]
  },
  {
   "cell_type": "code",
   "execution_count": 23,
   "metadata": {},
   "outputs": [
    {
     "name": "stdout",
     "output_type": "stream",
     "text": [
      " \n",
      "X . .\n",
      ". . .\n",
      ". . .\n",
      " \n",
      "Enter row: 1\n",
      "Enter column: 2\n",
      " \n",
      "X O .\n",
      ". . .\n",
      ". . .\n",
      " \n",
      " \n",
      "X O .\n",
      ". . .\n",
      ". . X\n",
      " \n",
      "Enter row: 2\n",
      "Enter column: 2\n",
      " \n",
      "X O .\n",
      ". O .\n",
      ". . X\n",
      " \n",
      " \n",
      "X O .\n",
      ". O .\n",
      ". X X\n",
      " \n",
      "Enter row: 3\n",
      "Enter column: 1\n",
      " \n",
      "X O .\n",
      ". O .\n",
      "O X X\n",
      " \n",
      " \n",
      "X O X\n",
      ". O .\n",
      "O X X\n",
      " \n",
      "Enter row: 2\n",
      "Enter column: 3\n",
      " \n",
      "X O X\n",
      ". O O\n",
      "O X X\n",
      " \n",
      " \n",
      "X O X\n",
      "X O O\n",
      "O X X\n",
      " \n",
      "Game ended. Winner:  .\n"
     ]
    }
   ],
   "source": [
    "# Run the game\n",
    "game()"
   ]
  },
  {
   "cell_type": "markdown",
   "metadata": {},
   "source": [
    "## Game Analysis"
   ]
  },
  {
   "cell_type": "markdown",
   "metadata": {},
   "source": [
    "We want to know how many are the possible combinations of moves and how many times each player can win the game."
   ]
  },
  {
   "cell_type": "code",
   "execution_count": 24,
   "metadata": {},
   "outputs": [],
   "source": [
    "# all moves for all possible states for this player\n",
    "def all_moves(board_list, sign):\n",
    "    move_list = []\n",
    "    for board in board_list:\n",
    "        move_list.extend(all_possible_moves(board, sign))\n",
    "    return move_list"
   ]
  },
  {
   "cell_type": "code",
   "execution_count": 13,
   "metadata": {},
   "outputs": [],
   "source": [
    "# All wins of each player separated in two new lists, draws remains in the old list\n",
    "def player_wins(move_list, ai_wins, human_wins):\n",
    "    for board in move_list:\n",
    "        won_by = game_won_by(board)\n",
    "        if won_by == AI:\n",
    "            ai_wins.append(board)\n",
    "            move_list.remove(board)\n",
    "        elif won_by == HUMAN:\n",
    "            human_wins.append(board)\n",
    "            move_list.remove(board)"
   ]
  },
  {
   "cell_type": "code",
   "execution_count": 14,
   "metadata": {},
   "outputs": [],
   "source": [
    "# At each step count the available moves\n",
    "def count_possibilities():\n",
    "    board = EMPTY * 9\n",
    "    move_list = [board]\n",
    "    ai_wins = []\n",
    "    human_wins = []\n",
    "    for i in range(9):\n",
    "        print('Step ' + str(i) + ': possible moves = ' + str(len(move_list)))\n",
    "        sign = AI if i % 2 == 0 else HUMAN\n",
    "        move_list = all_moves(move_list, sign)\n",
    "        player_wins(move_list, ai_wins, human_wins)\n",
    "    print('First player wins: ' + str(len(ai_wins)))\n",
    "    print('Second player wins: ' + str(len(human_wins)))\n",
    "    print('Draw', str(len(move_list)))\n",
    "    print('Total', str(len(ai_wins) + len(human_wins) + len(move_list)))"
   ]
  },
  {
   "cell_type": "code",
   "execution_count": 15,
   "metadata": {},
   "outputs": [
    {
     "name": "stdout",
     "output_type": "stream",
     "text": [
      "Step 0: possible moves = 1\n",
      "Step 1: possible moves = 1\n",
      "Step 2: possible moves = 8\n",
      "Step 3: possible moves = 8\n",
      "Step 4: possible moves = 48\n",
      "Step 5: possible moves = 38\n",
      "Step 6: possible moves = 108\n",
      "Step 7: possible moves = 76\n",
      "Step 8: possible moves = 90\n",
      "First player wins: 128\n",
      "Second player wins: 0\n",
      "Draw 60\n",
      "Total 188\n"
     ]
    }
   ],
   "source": [
    "count_possibilities()"
   ]
  },
  {
   "cell_type": "code",
   "execution_count": null,
   "metadata": {},
   "outputs": [],
   "source": []
  }
 ],
 "metadata": {
  "kernelspec": {
   "display_name": "Python 3",
   "language": "python",
   "name": "python3"
  },
  "language_info": {
   "codemirror_mode": {
    "name": "ipython",
    "version": 3
   },
   "file_extension": ".py",
   "mimetype": "text/x-python",
   "name": "python",
   "nbconvert_exporter": "python",
   "pygments_lexer": "ipython3",
   "version": "3.7.6"
  }
 },
 "nbformat": 4,
 "nbformat_minor": 2
}
