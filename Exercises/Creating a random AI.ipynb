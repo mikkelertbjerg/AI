{
 "cells": [
  {
   "cell_type": "code",
   "execution_count": 1,
   "metadata": {},
   "outputs": [],
   "source": [
    "#State space of a game\n",
    "#Exercise 2: Estimating the number of possible states in Tic-Tac-Toe game\n",
    "#Seeing as there are 9 fileds on a tic-tac-toe board the total number of possible states would be !9\n",
    "\n",
    "#Exercise 3: Creating a random AI\n",
    "#Initialize signs\n",
    "EMPTY_SIGN = '.'\n",
    "AI_SIGN = 'X'\n",
    "OPPONENT_SIGN = 'O'"
   ]
  },
  {
   "cell_type": "code",
   "execution_count": 2,
   "metadata": {},
   "outputs": [],
   "source": [
    "def print_board(board):\n",
    "    print(\" \")\n",
    "    print(' '.join(board[:3]))\n",
    "    print(' '.join(board[3:6]))\n",
    "    print(' '.join(board[6:]))\n",
    "    print(\" \")"
   ]
  },
  {
   "cell_type": "code",
   "execution_count": 3,
   "metadata": {},
   "outputs": [
    {
     "name": "stdout",
     "output_type": "stream",
     "text": [
      " \n",
      ". . .\n",
      ". . .\n",
      ". . .\n",
      " \n"
     ]
    }
   ],
   "source": [
    "#Test the board\n",
    "board = EMPTY_SIGN * 9\n",
    "print_board(board)"
   ]
  },
  {
   "cell_type": "code",
   "execution_count": 4,
   "metadata": {},
   "outputs": [],
   "source": [
    "#Define winning combinations\n",
    "combo_indices = [\n",
    "    [0, 1, 2],\n",
    "    [3, 4, 5],\n",
    "    [6, 7, 8],\n",
    "    [0, 3, 6],\n",
    "    [1, 4, 7],\n",
    "    [2, 5, 8],\n",
    "    [0, 4, 8],\n",
    "    [2, 4, 6],\n",
    "]"
   ]
  },
  {
   "cell_type": "code",
   "execution_count": 5,
   "metadata": {},
   "outputs": [],
   "source": [
    "def opponent_move(board, row, column):\n",
    "    index = 3 * (row - 1) + (column - 1)\n",
    "    if board[index] == EMPTY_SIGN:\n",
    "        return board[:index] + OPPONENT_SIGN + board[index+1:]\n",
    "    return board"
   ]
  },
  {
   "cell_type": "code",
   "execution_count": 6,
   "metadata": {},
   "outputs": [],
   "source": [
    "def all_moves_from_board(board, sign):\n",
    "    move_list = []\n",
    "    for i, v in enumerate(board):\n",
    "        if v == EMPTY_SIGN:\n",
    "            move_list.append(board[:i] + sign + board[i+1:])\n",
    "            return move_list"
   ]
  },
  {
   "cell_type": "code",
   "execution_count": 7,
   "metadata": {},
   "outputs": [],
   "source": [
    "from random import choice\n",
    "def ai_move(board):\n",
    "    return choice(all_moves_from_board(board, AI_SIGN))"
   ]
  },
  {
   "cell_type": "code",
   "execution_count": 8,
   "metadata": {},
   "outputs": [],
   "source": [
    "def game_won_by(board):\n",
    "    for index in combo_indices:\n",
    "        if board[index[0]] == board[index[1]] == board[index[2]] != EMPTY_SIGN:\n",
    "            return board[index[0]]\n",
    "        return EMPTY_SIGN"
   ]
  },
  {
   "cell_type": "code",
   "execution_count": 9,
   "metadata": {},
   "outputs": [],
   "source": [
    "def game_loop():\n",
    "    board = EMPTY_SIGN * 9\n",
    "    empty_cell_count = 9\n",
    "    is_game_ended = False\n",
    "    while empty_cell_count > 0 and not is_game_ended:\n",
    "        if empty_cell_count % 2 == 1:\n",
    "            board = ai_move(board)\n",
    "        else:\n",
    "            row = int(input('Enter row: '))\n",
    "            col = int(input('Enter column: '))\n",
    "            board = opponent_move(board, row, col)\n",
    "            \n",
    "        print_board(board)\n",
    "\n",
    "        empty_cell_count = board.count(EMPTY_SIGN)\n",
    "        #empty_cell_count = sum(1 for cell in board if cell == EMPTY_SIGN)\n",
    "\n",
    "        is_game_ended = game_won_by(board) != EMPTY_SIGN\n",
    "\n",
    "    print('Game has been ended.')"
   ]
  },
  {
   "cell_type": "code",
   "execution_count": 10,
   "metadata": {},
   "outputs": [
    {
     "name": "stdout",
     "output_type": "stream",
     "text": [
      " \n",
      "X . .\n",
      ". . .\n",
      ". . .\n",
      " \n",
      "Enter row: 2\n",
      "Enter column: 2\n",
      " \n",
      "X . .\n",
      ". O .\n",
      ". . .\n",
      " \n",
      " \n",
      "X X .\n",
      ". O .\n",
      ". . .\n",
      " \n",
      "Enter row: 1\n",
      "Enter column: 3\n",
      " \n",
      "X X O\n",
      ". O .\n",
      ". . .\n",
      " \n",
      " \n",
      "X X O\n",
      "X O .\n",
      ". . .\n",
      " \n",
      "Enter row: 3\n",
      "Enter column: 1\n",
      " \n",
      "X X O\n",
      "X O .\n",
      "O . .\n",
      " \n",
      " \n",
      "X X O\n",
      "X O X\n",
      "O . .\n",
      " \n",
      "Enter row: 3\n",
      "Enter column: 3\n",
      " \n",
      "X X O\n",
      "X O X\n",
      "O . O\n",
      " \n",
      " \n",
      "X X O\n",
      "X O X\n",
      "O X O\n",
      " \n",
      "Game has been ended.\n"
     ]
    }
   ],
   "source": [
    "game_loop()"
   ]
  }
 ],
 "metadata": {
  "kernelspec": {
   "display_name": "Python 3",
   "language": "python",
   "name": "python3"
  },
  "language_info": {
   "codemirror_mode": {
    "name": "ipython",
    "version": 3
   },
   "file_extension": ".py",
   "mimetype": "text/x-python",
   "name": "python",
   "nbconvert_exporter": "python",
   "pygments_lexer": "ipython3",
   "version": "3.7.6"
  }
 },
 "nbformat": 4,
 "nbformat_minor": 4
}
