{
 "cells": [
  {
   "cell_type": "code",
   "execution_count": 1,
   "metadata": {},
   "outputs": [],
   "source": [
    "# Assignment A1-3\n",
    "# -----------------------------------------------------------\n",
    "# Objectives\n",
    "# reading files from the local machine\n",
    "# integrating external service from Internet\n",
    "# natural language processing \n",
    "# -----------------------------------------------------------\n",
    "# Problem\n",
    "# Some text documents meant for distribution in Internet contain bad language and need\n",
    "# to be either corrected or deleted. The language can be controlled automatically by AI software,\n",
    "# which uses linguistic analysis techniques. As an example, a web service for searching inappropriate\n",
    "# words in a text is published at http://www.wdylike.appspot.com/\n",
    "# -----------------------------------------------------------\n",
    "# Task\n",
    "# Create a Python program, which can\n",
    "# opens a text file from a local folder\n",
    "# reads the text stored in the file\n",
    "# connects to the remote service, which checks for profanity in the language\n",
    "#sends the content of your file to this service\n",
    "# gets and prints the returned results"
   ]
  },
  {
   "cell_type": "code",
   "execution_count": 3,
   "metadata": {},
   "outputs": [
    {
     "ename": "FileNotFoundError",
     "evalue": "[Errno 2] No such file or directory: 'A1-3_Profanity_Text.txt'",
     "output_type": "error",
     "traceback": [
      "\u001b[1;31m---------------------------------------------------------------------------\u001b[0m",
      "\u001b[1;31mFileNotFoundError\u001b[0m                         Traceback (most recent call last)",
      "\u001b[1;32m<ipython-input-3-a1c7abbc8735>\u001b[0m in \u001b[0;36m<module>\u001b[1;34m\u001b[0m\n\u001b[0;32m      2\u001b[0m \u001b[1;33m\u001b[0m\u001b[0m\n\u001b[0;32m      3\u001b[0m \u001b[1;31m# Open the txt file\u001b[0m\u001b[1;33m\u001b[0m\u001b[1;33m\u001b[0m\u001b[1;33m\u001b[0m\u001b[0m\n\u001b[1;32m----> 4\u001b[1;33m \u001b[0mf\u001b[0m \u001b[1;33m=\u001b[0m \u001b[0mopen\u001b[0m\u001b[1;33m(\u001b[0m\u001b[1;34m'A1-3_Profanity_Text.txt'\u001b[0m\u001b[1;33m,\u001b[0m \u001b[1;34m\"r\"\u001b[0m\u001b[1;33m)\u001b[0m\u001b[1;33m\u001b[0m\u001b[1;33m\u001b[0m\u001b[0m\n\u001b[0m\u001b[0;32m      5\u001b[0m \u001b[1;32mif\u001b[0m \u001b[0mf\u001b[0m\u001b[1;33m.\u001b[0m\u001b[0mmode\u001b[0m \u001b[1;33m==\u001b[0m \u001b[1;34m'r'\u001b[0m\u001b[1;33m:\u001b[0m\u001b[1;33m\u001b[0m\u001b[1;33m\u001b[0m\u001b[0m\n\u001b[0;32m      6\u001b[0m     \u001b[0mc\u001b[0m \u001b[1;33m=\u001b[0m \u001b[0mf\u001b[0m\u001b[1;33m.\u001b[0m\u001b[0mread\u001b[0m\u001b[1;33m(\u001b[0m\u001b[1;33m)\u001b[0m\u001b[1;33m\u001b[0m\u001b[1;33m\u001b[0m\u001b[0m\n",
      "\u001b[1;31mFileNotFoundError\u001b[0m: [Errno 2] No such file or directory: 'A1-3_Profanity_Text.txt'"
     ]
    }
   ],
   "source": [
    "import urllib\n",
    "\n",
    "# Open the txt file\n",
    "f = open('A1-3_Profanity_Text.txt', \"r\")\n",
    "if f.mode == 'r':\n",
    "    c = f.read()\n",
    "    print(c)\n",
    "    \n",
    "# function with google api to check profanity in contents\n",
    "def check_contenct_profanity(c):\n",
    "    connection = urllib.urlopen('http://www.wdylike.appspot.com/?q='+contents)\n",
    "    output = connection.read()\n",
    "    print(output)\n",
    "    connection.close()\n",
    "    if 'true' in output :\n",
    "        print(\"File contains profanity\")\n",
    "    elif 'false' in output :\n",
    "        print(\"File contains no profanity\")\n",
    "    else:\n",
    "        print(\"Error\")"
   ]
  }
 ],
 "metadata": {
  "kernelspec": {
   "display_name": "Python 3",
   "language": "python",
   "name": "python3"
  },
  "language_info": {
   "codemirror_mode": {
    "name": "ipython",
    "version": 3
   },
   "file_extension": ".py",
   "mimetype": "text/x-python",
   "name": "python",
   "nbconvert_exporter": "python",
   "pygments_lexer": "ipython3",
   "version": "3.7.6"
  }
 },
 "nbformat": 4,
 "nbformat_minor": 4
}
