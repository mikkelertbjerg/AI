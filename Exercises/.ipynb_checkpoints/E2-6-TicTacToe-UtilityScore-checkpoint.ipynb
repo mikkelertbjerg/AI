{
 "cells": [
  {
   "cell_type": "markdown",
   "metadata": {},
   "source": [
    "# E2-6-Evaluate Alternatives With Utility Score"
   ]
  },
  {
   "cell_type": "markdown",
   "metadata": {},
   "source": [
    "In this version of the game we associate values to each node of the tree.\n",
    "The goal of the AI player is to move to cells with the __maximum__ value, while the goal of the opponent is __minimum__ loss."
   ]
  },
  {
   "attachments": {
    "Figure%202.2.JPG": {
     "image/jpeg": "[encoded data removed]"
    }
   },
   "cell_type": "markdown",
   "metadata": {},
   "source": [
    "![Figure%202.2.JPG](attachment:Figure%202.2.JPG)"
   ]
  },
  {
   "cell_type": "markdown",
   "metadata": {},
   "source": [
    "## Initialize The Board"
   ]
  },
  {
   "cell_type": "code",
   "execution_count": null,
   "metadata": {},
   "outputs": [],
   "source": [
    "# Initialize the players and signs\n",
    "EMPTY = '.'\n",
    "AI = 'X'\n",
    "HUMAN = 'O'"
   ]
  },
  {
   "cell_type": "code",
   "execution_count": null,
   "metadata": {},
   "outputs": [],
   "source": [
    "# print the board, leave an empty lines and spaces for visibility\n",
    "def print_board(board):\n",
    "    print(\" \")\n",
    "    print(' '.join(board[:3]))\n",
    "    print(' '.join(board[3:6]))\n",
    "    print(' '.join(board[6:]))\n",
    "    print(\" \")"
   ]
  },
  {
   "cell_type": "code",
   "execution_count": null,
   "metadata": {},
   "outputs": [],
   "source": [
    "# Initialize the board\n",
    "board = EMPTY * 9\n",
    "print_board(board)"
   ]
  },
  {
   "cell_type": "code",
   "execution_count": null,
   "metadata": {},
   "outputs": [],
   "source": [
    "# Define all possible winning combinations\n",
    "win_cases = [\n",
    "    [0, 1, 2],\n",
    "    [3, 4, 5],\n",
    "    [6, 7, 8],\n",
    "    [0, 3, 6],\n",
    "    [1, 4, 7],\n",
    "    [2, 5, 8],\n",
    "    [0, 4, 8],\n",
    "    [2, 4, 6]\n",
    "]"
   ]
  },
  {
   "cell_type": "markdown",
   "metadata": {},
   "source": [
    "## Build the Utility Matrix"
   ]
  },
  {
   "cell_type": "markdown",
   "metadata": {},
   "source": [
    "We create utility matrix for each state/board, giving values to the cells/possible moves."
   ]
  },
  {
   "cell_type": "code",
   "execution_count": null,
   "metadata": {},
   "outputs": [],
   "source": [
    "# Define the heuristic\n",
    "p1 = 1    # A move, creating a sign on the board brings 1 point\n",
    "p2 = 10   # A move, creating two of a kind brings 10 points\n",
    "p3 = 100  # A move, preventing the opponent from winning the game brings 100 points\n",
    "p4 = 1000 # A move, creating the three of a kind that win the game brings 1000 points\n",
    "p0 = -1   # Already occupied cells get a value of -infinity, or -1"
   ]
  },
  {
   "cell_type": "code",
   "execution_count": null,
   "metadata": {},
   "outputs": [],
   "source": [
    "# Initialize the values on the board cells\n",
    "def init_utility_matrix(board):\n",
    "    return [0 if cell == EMPTY else -1 for cell in board]"
   ]
  },
  {
   "cell_type": "code",
   "execution_count": null,
   "metadata": {},
   "outputs": [],
   "source": [
    "init_utility_matrix(board)"
   ]
  },
  {
   "cell_type": "code",
   "execution_count": null,
   "metadata": {},
   "outputs": [],
   "source": [
    "# Function to generate scores for the empty cells by use of the win cases indeces\n",
    "def generate_add_score(utilities, i, j, k):\n",
    "    # i, j, k - the winning triple\n",
    "    def add_score(points):\n",
    "        if utilities[i] >= 0: utilities[i] += points\n",
    "        if utilities[j] >= 0: utilities[j] += points\n",
    "        if utilities[k] >= 0: utilities[k] += points\n",
    "    return add_score"
   ]
  },
  {
   "cell_type": "code",
   "execution_count": null,
   "metadata": {},
   "outputs": [],
   "source": [
    "# Calculating the scores for any current board\n",
    "def utility_matrix(board):\n",
    "    utilities = init_utility_matrix(board)\n",
    "    for [i, j, k] in win_cases:\n",
    "        add_score = generate_add_score(utilities, i, j, k)\n",
    "        triple = [board[i], board[j], board[k]]\n",
    "        \n",
    "        # no AI sign yet\n",
    "        if triple.count(EMPTY) == 3: add_score(p1)\n",
    "            \n",
    "        # one AI sign and two empty cells\n",
    "        elif triple.count(EMPTY) == 2 and triple.count(AI) == 1: add_score(p2)   \n",
    "        \n",
    "        if triple.count(EMPTY) == 1:\n",
    "            # two AI and one winning empty\n",
    "            if triple.count(AI) == 2: add_score(p4)\n",
    "            # two signs of the opponent and one defending empty    \n",
    "            elif triple.count(HUMAN) == 2: add_score(p3)\n",
    "    return utilities"
   ]
  },
  {
   "cell_type": "markdown",
   "metadata": {},
   "source": [
    "## Supporting Functions"
   ]
  },
  {
   "cell_type": "code",
   "execution_count": null,
   "metadata": {},
   "outputs": [],
   "source": [
    "# A winning game is if any of win-cases occurs\n",
    "def game_won_by(board):\n",
    "    for i in win_cases:\n",
    "        if board[i[0]] == board[i[1]] == board[i[2]] != EMPTY:\n",
    "            # win-case\n",
    "            return board[i[0]]\n",
    "    return EMPTY"
   ]
  },
  {
   "cell_type": "code",
   "execution_count": null,
   "metadata": {},
   "outputs": [],
   "source": [
    "def all_possible_moves(board, sign):\n",
    "    move_list = []\n",
    "    for i, v in enumerate(board):\n",
    "        if v == EMPTY:\n",
    "            move_list.append(board[:i] + sign + board[i+1:])\n",
    "    return move_list"
   ]
  },
  {
   "cell_type": "code",
   "execution_count": null,
   "metadata": {},
   "outputs": [],
   "source": [
    "# Find the best move = the maximal available utility\n",
    "def best_moves_from_board(board, sign):\n",
    "    move_list = []\n",
    "    utilities = utility_matrix(board)\n",
    "    print(utilities)\n",
    "    max_utility = max(utilities)    \n",
    "    for i, v in enumerate(board):\n",
    "        if utilities[i] == max_utility:\n",
    "            move_list.append(board[:i] + sign + board[i+1:])  \n",
    "    print(move_list)\n",
    "    return move_list"
   ]
  },
  {
   "cell_type": "markdown",
   "metadata": {},
   "source": [
    "## Play Game"
   ]
  },
  {
   "cell_type": "code",
   "execution_count": null,
   "metadata": {},
   "outputs": [],
   "source": [
    "# Human move approach still the same\n",
    "def human_move(board, row, column):\n",
    "    # get the index of the cell the user selected: 2D -> 1D \n",
    "    index = 3 * (row - 1) + (column - 1)\n",
    "    #  if this cell is empty, make the user move, otherwise do nothing\n",
    "    if board[index] == EMPTY:\n",
    "        # place HUMAN sign on board[index]\n",
    "        return board[:index] + HUMAN + board[index+1:]\n",
    "    return board"
   ]
  },
  {
   "cell_type": "code",
   "execution_count": null,
   "metadata": {},
   "outputs": [],
   "source": [
    "# AI makes a move from all available SAFE moves\n",
    "from random import choice\n",
    "def ai_move(board):\n",
    "    options = []\n",
    "    options = best_moves_from_board(board, AI)\n",
    "    # options = all_possible_moves(board, AI)\n",
    "    for option in options:\n",
    "        if game_won_by(option) == AI:\n",
    "            return option\n",
    "    return options[0]  "
   ]
  },
  {
   "cell_type": "code",
   "execution_count": null,
   "metadata": {},
   "outputs": [],
   "source": [
    "# Play the game\n",
    "def game():\n",
    "    # start from empty board\n",
    "    board = EMPTY * 9\n",
    "    empty_cell_count = 9\n",
    "    end_flag = False\n",
    "    \n",
    "    while empty_cell_count > 0 and not end_flag:        \n",
    "        # Player AI (always odd number of options)\n",
    "        if empty_cell_count % 2 == 1:\n",
    "            board = ai_move(board)\n",
    "        else:\n",
    "            # Human player\n",
    "            row = int(input('Enter row: '))\n",
    "            col = int(input('Enter column: '))\n",
    "            board = human_move(board, row, col)\n",
    "            \n",
    "        # Print current board status    \n",
    "        print_board(board)\n",
    "        \n",
    "        # Check if someone wins already, update the flag\n",
    "        end_flag = game_won_by(board) != EMPTY\n",
    "        \n",
    "        # Count how many empty cells left\n",
    "        empty_cell_count = board.count(EMPTY)      \n",
    "        # empty_cell_count = sum(1 for cell in board if cell == EMPTY_SIGN)\n",
    "     \n",
    "    print('Game ended. Winner: ', game_won_by(board))"
   ]
  },
  {
   "cell_type": "code",
   "execution_count": null,
   "metadata": {},
   "outputs": [],
   "source": [
    "# Run the game\n",
    "game()"
   ]
  },
  {
   "cell_type": "markdown",
   "metadata": {},
   "source": [
    "## Game Analysis"
   ]
  },
  {
   "cell_type": "code",
   "execution_count": null,
   "metadata": {},
   "outputs": [],
   "source": [
    "# All moves for all possible states for this player\n",
    "def all_moves(board_list, sign):\n",
    "    move_list = []\n",
    "    get_moves = best_moves_from_board if sign == AI else all_possible_moves\n",
    "    for board in board_list:\n",
    "        move_list.extend(get_moves(board, sign))\n",
    "    return move_list"
   ]
  },
  {
   "cell_type": "code",
   "execution_count": null,
   "metadata": {},
   "outputs": [],
   "source": [
    "# All wins of each player separated in two new lists, draws remains in the old list\n",
    "def player_wins(move_list, ai_wins, human_wins):\n",
    "    for board in move_list:\n",
    "        won_by = game_won_by(board)\n",
    "        if won_by == AI:\n",
    "            ai_wins.append(board)\n",
    "            move_list.remove(board)\n",
    "        elif won_by == HUMAN:\n",
    "            human_wins.append(board)\n",
    "            move_list.remove(board)"
   ]
  },
  {
   "cell_type": "code",
   "execution_count": null,
   "metadata": {},
   "outputs": [],
   "source": [
    "# At each step count the available moves\n",
    "def count_possibilities():\n",
    "    board = EMPTY * 9\n",
    "    move_list = [board]\n",
    "    ai_wins = []\n",
    "    human_wins = []\n",
    "    for i in range(9):\n",
    "        print('Step ' + str(i) + ': possible moves = ' + str(len(move_list)))\n",
    "        sign = AI if i % 2 == 0 else HUMAN\n",
    "        move_list = all_moves(move_list, sign)\n",
    "        player_wins(move_list, ai_wins, human_wins)\n",
    "    print('First player wins: ' + str(len(ai_wins)))\n",
    "    print('Second player wins: ' + str(len(human_wins)))\n",
    "    print('Draw', str(len(move_list)))\n",
    "    print('Total', str(len(ai_wins) + len(human_wins) + len(move_list)))"
   ]
  },
  {
   "cell_type": "code",
   "execution_count": null,
   "metadata": {},
   "outputs": [],
   "source": [
    "count_possibilities()"
   ]
  },
  {
   "cell_type": "code",
   "execution_count": null,
   "metadata": {},
   "outputs": [],
   "source": []
  }
 ],
 "metadata": {
  "kernelspec": {
   "display_name": "Python 3",
   "language": "python",
   "name": "python3"
  },
  "language_info": {
   "codemirror_mode": {
    "name": "ipython",
    "version": 3
   },
   "file_extension": ".py",
   "mimetype": "text/x-python",
   "name": "python",
   "nbconvert_exporter": "python",
   "pygments_lexer": "ipython3",
   "version": "3.7.6"
  }
 },
 "nbformat": 4,
 "nbformat_minor": 2
}
