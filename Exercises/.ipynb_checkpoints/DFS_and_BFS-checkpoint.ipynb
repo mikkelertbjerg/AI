{
 "cells": [
  {
   "cell_type": "code",
   "execution_count": 15,
   "metadata": {
    "scrolled": true
   },
   "outputs": [
    {
     "name": "stdout",
     "output_type": "stream",
     "text": [
      "[{'value': 1, 'depth': 1}]\n"
     ]
    },
    {
     "data": {
      "text/plain": [
       "[{'value': 1, 'depth': 1}]"
      ]
     },
     "execution_count": 15,
     "metadata": {},
     "output_type": "execute_result"
    }
   ],
   "source": [
    "#Breadth First Serach and Depth First Search\n",
    "#DFS & DFS\n",
    "\n",
    "root = {'value': 1, 'depth': 1}\n",
    "def succ(node):\n",
    "    if node['value'] == 5:\n",
    "        return []\n",
    "    elif node['value'] == 4:\n",
    "        return [{'value': 5, 'depth': node['depth']+1}]\n",
    "    else:\n",
    "        return [{'value': node['value']+1, 'depth': node['depth']+1}, \n",
    "                {'value': node['value']+2, 'depth': node['depth']+1}]\n",
    "\n",
    "def bfs_tree(node):\n",
    "    nodes_to_visit = [node]\n",
    "    visited_nodes = []\n",
    "    while len(nodes_to_visit) > 0:\n",
    "        current_node = nodes_to_visit.pop(0)\n",
    "        visited_nodes.append(current_node)\n",
    "        nodes_to_visit.extend(succ(current_node))\n",
    "        return visited_nodes\n",
    "    \n",
    "bfs_tree(root)\n",
    "\n",
    "def dfs_tree(node):\n",
    "    nodes_to_visit = [node]\n",
    "    visited_nodes = []\n",
    "    while len(nodes_to_visit) > 0:\n",
    "        current_node = nodes_to_visit.pop()\n",
    "        visited_nodes.append(current_node)\n",
    "        nodes_to_visit.extend(succ(current_node))\n",
    "        return visited_nodes\n",
    "    \n",
    "dfs_tree(root)\n",
    "    \n"
   ]
  }
 ],
 "metadata": {
  "kernelspec": {
   "display_name": "Python 3",
   "language": "python",
   "name": "python3"
  },
  "language_info": {
   "codemirror_mode": {
    "name": "ipython",
    "version": 3
   },
   "file_extension": ".py",
   "mimetype": "text/x-python",
   "name": "python",
   "nbconvert_exporter": "python",
   "pygments_lexer": "ipython3",
   "version": "3.7.6"
  }
 },
 "nbformat": 4,
 "nbformat_minor": 4
}
