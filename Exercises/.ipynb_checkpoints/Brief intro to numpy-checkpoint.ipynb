{
 "cells": [
  {
   "cell_type": "code",
   "execution_count": 21,
   "metadata": {
    "scrolled": true
   },
   "outputs": [
    {
     "data": {
      "text/plain": [
       "matrix([[1, 4, 7],\n",
       "        [2, 5, 8],\n",
       "        [3, 6, 9]])"
      ]
     },
     "execution_count": 21,
     "metadata": {},
     "output_type": "execute_result"
    }
   ],
   "source": [
    "import numpy as np\n",
    "\n",
    "#Declaring an array\n",
    "np.array([1, 3, 5, 7])\n",
    "\n",
    "#Declaring a matrix\n",
    "A = np.mat([[1,2],[3,3]])\n",
    "\n",
    "#Adding matrices\n",
    "A + A\n",
    "\n",
    "#Substraction of matrices\n",
    "A - A\n",
    "\n",
    "#Multiplacation of matrices\n",
    "A * A\n",
    "\n",
    "#Determinant of matrices\n",
    "#Can otherwise be calculated like: 1*3 - 2*3 in this given example\n",
    "np.linalg.det(A)\n",
    "\n",
    "#Transpose matrix\n",
    "np.matrix.transpose(A)\n",
    "\n",
    "#Exercise 1 Matrix operations using Numpy\n",
    "A = np.mat([[1, 2, 3], [4, 5, 6], [7, 8, 9]])\n",
    "\n",
    "#Multiplying the matrix\n",
    "A * A\n",
    "\n",
    "#Getting the derterminant of the matrix\n",
    "np.linalg.det(A)\n",
    "\n",
    "#Transposing the Matrix\n",
    "np.matrix.transpose(A)\n"
   ]
  },
  {
   "cell_type": "code",
   "execution_count": null,
   "metadata": {},
   "outputs": [],
   "source": []
  }
 ],
 "metadata": {
  "kernelspec": {
   "display_name": "Python 3",
   "language": "python",
   "name": "python3"
  },
  "language_info": {
   "codemirror_mode": {
    "name": "ipython",
    "version": 3
   },
   "file_extension": ".py",
   "mimetype": "text/x-python",
   "name": "python",
   "nbconvert_exporter": "python",
   "pygments_lexer": "ipython3",
   "version": "3.7.6"
  }
 },
 "nbformat": 4,
 "nbformat_minor": 4
}
