{
 "cells": [
  {
   "cell_type": "code",
   "execution_count": 1,
   "metadata": {},
   "outputs": [],
   "source": [
    "# Assignment A1-3\n",
    "# -----------------------------------------------------------\n",
    "# Objectives\n",
    "# reading files from the local machine\n",
    "# integrating external service from Internet\n",
    "# natural language processing \n",
    "# -----------------------------------------------------------\n",
    "# Problem\n",
    "# Some text documents meant for distribution in Internet contain bad language and need\n",
    "# to be either corrected or deleted. The language can be controlled automatically by AI software,\n",
    "# which uses linguistic analysis techniques. As an example, a web service for searching inappropriate\n",
    "# words in a text is published at http://www.wdylike.appspot.com/\n",
    "# -----------------------------------------------------------\n",
    "# Task\n",
    "# Create a Python program, which can\n",
    "# opens a text file from a local folder\n",
    "# reads the text stored in the file\n",
    "# connects to the remote service, which checks for profanity in the language\n",
    "#sends the content of your file to this service\n",
    "# gets and prints the returned results"
   ]
  },
  {
   "cell_type": "code",
   "execution_count": 8,
   "metadata": {},
   "outputs": [
    {
     "name": "stdout",
     "output_type": "stream",
     "text": [
      "No profanity found in text\n"
     ]
    }
   ],
   "source": [
    "import requests\n",
    "\n",
    "# Open the txt file\n",
    "f = open('A1-3_Profanity_Text.txt', \"r\")\n",
    "if f.mode == 'r':\n",
    "    c = f.read()\n",
    "\n",
    "# Check for profanity function\n",
    "def check_contenct_profanity(content):\n",
    "    output = requests.get('http://www.wdylike.appspot.com/?q=', params = content)\n",
    "    if 'true' in output.text :\n",
    "        print(\"Profanity found in text\")\n",
    "    elif 'false' in output.text :\n",
    "        print(\"No profanity found in text\")\n",
    "    else:\n",
    "        print(\"Error\")\n",
    "        \n",
    "# Call the function\n",
    "check_contenct_profanity(c)"
   ]
  }
 ],
 "metadata": {
  "kernelspec": {
   "display_name": "Python 3",
   "language": "python",
   "name": "python3"
  },
  "language_info": {
   "codemirror_mode": {
    "name": "ipython",
    "version": 3
   },
   "file_extension": ".py",
   "mimetype": "text/x-python",
   "name": "python",
   "nbconvert_exporter": "python",
   "pygments_lexer": "ipython3",
   "version": "3.7.6"
  }
 },
 "nbformat": 4,
 "nbformat_minor": 4
}
